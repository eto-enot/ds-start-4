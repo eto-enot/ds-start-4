{
 "cells": [
  {
   "cell_type": "markdown",
   "id": "da350e70-727b-4303-a094-791d4e1d89f6",
   "metadata": {},
   "source": [
    "# Домашнее задание: декораторы"
   ]
  },
  {
   "cell_type": "markdown",
   "id": "0c105315-6c46-4d5b-93d2-2e6fbd504f02",
   "metadata": {},
   "source": [
    "## Импорт библиотек, установка констант"
   ]
  },
  {
   "cell_type": "code",
   "execution_count": 1,
   "id": "d3bb2146-ae94-41b4-b89d-b854022e6734",
   "metadata": {},
   "outputs": [],
   "source": [
    "import requests\n",
    "import time\n",
    "import re\n",
    "import typing\n",
    "\n",
    "from random import randint\n",
    "from functools import wraps"
   ]
  },
  {
   "cell_type": "code",
   "execution_count": 2,
   "id": "2941f6d8-8e71-4b49-8fc6-2c351d3bbfd6",
   "metadata": {},
   "outputs": [],
   "source": [
    "BOOK_PATH = 'https://www.gutenberg.org/files/2638/2638-0.txt'\n",
    "BOOK_PATH2 = 'https://www.gutenberg.org/files/5827/5827-8.txt'"
   ]
  },
  {
   "cell_type": "markdown",
   "id": "10d55ead-9c1d-4fc9-aa51-b2f7ffceaff5",
   "metadata": {},
   "source": [
    "## Задание 1"
   ]
  },
  {
   "cell_type": "code",
   "execution_count": 3,
   "id": "7a8c0f3e-59db-49fe-b155-ddfa3a50ee27",
   "metadata": {},
   "outputs": [],
   "source": [
    "def benchmark(func):\n",
    "    \"\"\"\n",
    "    Декоратор, выводящий время, которое заняло выполнение декорируемой функции\n",
    "    \"\"\"\n",
    "\n",
    "    @wraps(func)\n",
    "    def wrapper(*args, **kwargs):\n",
    "        start = time.perf_counter() \n",
    "        result = func(*args, **kwargs)\n",
    "        tm = time.perf_counter() - start\n",
    "        print(f\"Время выполнения функции {func.__name__}: {tm:.17f}\")\n",
    "        return result\n",
    "\n",
    "    return wrapper"
   ]
  },
  {
   "cell_type": "markdown",
   "id": "d0a2b053-12a9-4bbc-8e14-d1f178e74682",
   "metadata": {},
   "source": [
    "## Задание 2"
   ]
  },
  {
   "cell_type": "code",
   "execution_count": 4,
   "id": "220b31cb-9406-4220-95b1-337dd6803534",
   "metadata": {},
   "outputs": [],
   "source": [
    "def logging(func):\n",
    "    \"\"\"\n",
    "    Декоратор, который выводит параметры с которыми была вызвана функция\n",
    "    \"\"\"\n",
    "\n",
    "    @wraps(func)\n",
    "    def wrapper(*args, **kwargs):\n",
    "        result = func(*args, **kwargs)\n",
    "        print(f\"Функция вызвана с параметрами: {args}, {kwargs}\")\n",
    "        return result\n",
    "\n",
    "    return wrapper"
   ]
  },
  {
   "cell_type": "markdown",
   "id": "362ba2b1-05c9-4d94-b6e7-36b09005f45d",
   "metadata": {},
   "source": [
    "## Задание 3"
   ]
  },
  {
   "cell_type": "code",
   "execution_count": 5,
   "id": "db369251-3142-4967-9020-cec9e47ce527",
   "metadata": {},
   "outputs": [],
   "source": [
    "def counter(func):\n",
    "    \"\"\"\n",
    "    Декоратор, считающий и выводящий количество вызовов декорируемой функции\n",
    "    \"\"\"\n",
    "\n",
    "    @wraps(func)\n",
    "    def wrapper(*args, **kwargs):\n",
    "        result = func(*args, **kwargs)\n",
    "        # кол-во вызовов храним в объекте декоратора\n",
    "        wrapper.count += 1\n",
    "        print(f\"Функция была вызывана {wrapper.count} раз\")\n",
    "        return result\n",
    "\n",
    "    # задаем начальное значение счетчика в декораторе\n",
    "    wrapper.count = 0\n",
    "    return wrapper"
   ]
  },
  {
   "cell_type": "markdown",
   "id": "8d843fc6-e3c5-4b69-a60c-d1f9ec4a9185",
   "metadata": {},
   "source": [
    "## Задание 4"
   ]
  },
  {
   "cell_type": "code",
   "execution_count": 6,
   "id": "713518b1-49e6-4bb8-bb05-1a15df7e7a43",
   "metadata": {},
   "outputs": [],
   "source": [
    "def memo(func):\n",
    "    \"\"\"\n",
    "    Декоратор, запоминающий результаты исполнения функции func,\n",
    "    чьи аргументы args должны быть хешируемыми\n",
    "    \"\"\"\n",
    "\n",
    "    @wraps(func)\n",
    "    def fmemo(*args):\n",
    "        # проверяем, что переданные аргументы хэшируемые\n",
    "        if all(isinstance(arg, typing.Hashable) for arg in args):\n",
    "            # если да, то их можно использовать как ключ в словаре fmemo.cache\n",
    "            if args in fmemo.cache:\n",
    "                # если аргумент уже в кэше, возвращаем сохраненное значение\n",
    "                result = fmemo.cache[args]\n",
    "            else:\n",
    "                # иначе сохраняем результат ф-ии и возвращаем его\n",
    "                result = fmemo.cache[args] = func(*args)\n",
    "            return result\n",
    "        else:\n",
    "            # если аргументы не хэшируемые, просто вызываем ф-ю\n",
    "            return func(*args)\n",
    "\n",
    "    fmemo.cache = {}\n",
    "    return fmemo"
   ]
  },
  {
   "cell_type": "markdown",
   "id": "d98995fa-d03e-472f-9322-0a411f6cd4ab",
   "metadata": {},
   "source": [
    "## Тестирование"
   ]
  },
  {
   "cell_type": "code",
   "execution_count": 7,
   "id": "011bc2be-a824-4fbe-9c85-6b0c798a813e",
   "metadata": {},
   "outputs": [],
   "source": [
    "@counter\n",
    "@logging\n",
    "@benchmark\n",
    "def word_count(word, url=BOOK_PATH):\n",
    "    \"\"\"\n",
    "    Функция для посчета указанного слова на html-странице\n",
    "    \"\"\"\n",
    "\n",
    "    # отправляем запрос в библиотеку Gutenberg и забираем текст\n",
    "    raw = requests.get(url).text\n",
    "\n",
    "    # заменяем в тексте все небуквенные символы на пробелы\n",
    "    processed_book = re.sub('[\\W]+' , ' ', raw).lower()\n",
    "\n",
    "    # считаем\n",
    "    cnt = len(re.findall(word.lower(), processed_book))\n",
    "\n",
    "    return f\"Cлово {word} встречается {cnt} раз\""
   ]
  },
  {
   "cell_type": "code",
   "execution_count": 8,
   "id": "78d2675d-5e97-44c6-9662-cf07ff46c272",
   "metadata": {},
   "outputs": [
    {
     "name": "stdout",
     "output_type": "stream",
     "text": [
      "Время выполнения функции word_count: 1.78787540000121226\n",
      "Функция вызвана с параметрами: ('whole',), {}\n",
      "Функция была вызывана 1 раз\n",
      "Cлово whole встречается 176 раз\n"
     ]
    }
   ],
   "source": [
    "print(word_count('whole'))"
   ]
  },
  {
   "cell_type": "code",
   "execution_count": 9,
   "id": "5c8ee6b7-ec53-429d-a60c-a2dfa1de6a6c",
   "metadata": {},
   "outputs": [
    {
     "name": "stdout",
     "output_type": "stream",
     "text": [
      "Время выполнения функции word_count: 1.12936499999705120\n",
      "Функция вызвана с параметрами: ('knowledge',), {'url': 'https://www.gutenberg.org/files/5827/5827-8.txt'}\n",
      "Функция была вызывана 2 раз\n",
      "Cлово knowledge встречается 308 раз\n"
     ]
    }
   ],
   "source": [
    "print(word_count('knowledge', url=BOOK_PATH2))"
   ]
  },
  {
   "cell_type": "code",
   "execution_count": 10,
   "id": "74e6e80e-0428-41c4-9e90-1173983c4e57",
   "metadata": {},
   "outputs": [
    {
     "name": "stdout",
     "output_type": "stream",
     "text": [
      "Время выполнения функции fib: 0.09628700000030221\n"
     ]
    }
   ],
   "source": [
    "# вариант без кэширования\n",
    "# используется вложенная ф-я _fib, чтобы замерять время выполнения в целом, а не каждого рекурсивного вызова\n",
    "@benchmark\n",
    "def fib(n):\n",
    "    def _fib(n):\n",
    "        if n < 2:\n",
    "            return n\n",
    "        return _fib(n-2) + _fib(n-1)\n",
    "    \n",
    "    return _fib(n)\n",
    "\n",
    "# измеряем время выполнения\n",
    "result1 = fib(30)"
   ]
  },
  {
   "cell_type": "code",
   "execution_count": 11,
   "id": "e0767e8c-0eff-4f36-9b7f-99287e083700",
   "metadata": {},
   "outputs": [
    {
     "name": "stdout",
     "output_type": "stream",
     "text": [
      "Время выполнения функции fib_cached: 0.00009559999671183\n"
     ]
    }
   ],
   "source": [
    "# вариант с кэшированием\n",
    "# такая же вложенная ф-я, но результаты промежуточных рекурсивных вызовов будут запомнены\n",
    "@benchmark\n",
    "def fib_cached(n):\n",
    "    @memo\n",
    "    def _fib(n):\n",
    "        if n < 2:\n",
    "            return n\n",
    "        return _fib(n-2) + _fib(n-1)\n",
    "    \n",
    "    return _fib(n)\n",
    "\n",
    "# измеряем время выполнения с кэшированием\n",
    "# время выполнения должно значительно уменьшиться\n",
    "result2 = fib_cached(30)"
   ]
  },
  {
   "cell_type": "code",
   "execution_count": 12,
   "id": "4d831694-ddea-4a16-9d8b-61cff0c1cd95",
   "metadata": {},
   "outputs": [],
   "source": [
    "# проверяем, что результаты сходятся\n",
    "assert result1 == result2"
   ]
  },
  {
   "cell_type": "code",
   "execution_count": null,
   "id": "9289d782-a7e5-4b56-9916-ed57020e8b09",
   "metadata": {},
   "outputs": [],
   "source": []
  }
 ],
 "metadata": {
  "kernelspec": {
   "display_name": "Python 3 (ipykernel)",
   "language": "python",
   "name": "python3"
  },
  "language_info": {
   "codemirror_mode": {
    "name": "ipython",
    "version": 3
   },
   "file_extension": ".py",
   "mimetype": "text/x-python",
   "name": "python",
   "nbconvert_exporter": "python",
   "pygments_lexer": "ipython3",
   "version": "3.11.4"
  }
 },
 "nbformat": 4,
 "nbformat_minor": 5
}
